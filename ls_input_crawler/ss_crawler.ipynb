{
 "cells": [
  {
   "cell_type": "code",
   "execution_count": 19,
   "metadata": {},
   "outputs": [],
   "source": [
    "from selenium import webdriver\n",
    "from selenium.webdriver.chrome.options import Options\n",
    "from selenium.webdriver.chrome.service import Service\n",
    "from selenium.webdriver.common.keys import Keys\n",
    "from selenium.webdriver.common.by import By\n",
    "from PIL import Image\n",
    "from bs4 import BeautifulSoup\n",
    "import re\n",
    "import time"
   ]
  },
  {
   "cell_type": "code",
   "execution_count": 10,
   "metadata": {},
   "outputs": [],
   "source": [
    "def showImg(path):\n",
    "    ss = Image.open(\"ss.png\")\n",
    "    ss = ss.convert(\"RGB\")\n",
    "    ss.show()"
   ]
  },
  {
   "cell_type": "code",
   "execution_count": 11,
   "metadata": {},
   "outputs": [],
   "source": [
    "# options = Options()\n",
    "# options.add_argument(\"--headless=new\")\n",
    "# driver = webdriver.Chrome(options=options)\n",
    "\n",
    "driver = webdriver.Chrome()"
   ]
  },
  {
   "cell_type": "code",
   "execution_count": 12,
   "metadata": {},
   "outputs": [],
   "source": [
    "url_list = []\n",
    "with open(\"./url_lists/test1.txt\") as f:\n",
    "    for line in f:\n",
    "        url_list.append(\"https://\" + line.strip())"
   ]
  },
  {
   "cell_type": "code",
   "execution_count": 49,
   "metadata": {},
   "outputs": [],
   "source": [
    "koi_list = [\"login\", \"signin\", \"createaccount\", \"signup\", \"cookie\", \"advertisements\", \"promo\", \"download\", \"install\", \"banner\", \"ribbon\", \"chat\"]"
   ]
  },
  {
   "cell_type": "code",
   "execution_count": 52,
   "metadata": {},
   "outputs": [],
   "source": [
    "driver.implicitly_wait(5)\n",
    "for url in url_list[0:1]:\n",
    "    \n",
    "    try: \n",
    "    \n",
    "        query_items = []\n",
    "        driver.get(url)\n",
    "        \n",
    "        for key in koi_list:\n",
    "            \n",
    "            dom_dump = driver.page_source\n",
    "            match_list = [m.start() for m in re.finditer(key, dom_dump)]\n",
    "            \n",
    "            if len(match_list) > 0:\n",
    "                for match_ind in match_list:\n",
    "                    end_ind = None\n",
    "                    start_ind = None\n",
    "                    for i in range(match_ind, len(dom_dump)):\n",
    "                        if dom_dump[i] == \" \":\n",
    "                            end_ind = i\n",
    "                            break\n",
    "                    for i in reversed(range(0, match_ind)):\n",
    "                        if dom_dump[i] == \" \":\n",
    "                            start_ind = i\n",
    "                            break\n",
    "                    \n",
    "                    query_items.append(dom_dump[start_ind:end_ind])\n",
    "            \n",
    "            # # soup = BeautifulSoup(dom_dump,\"html.parser\")\n",
    "            # # print(soup)\n",
    "            \n",
    "            # time.sleep(2)\n",
    "            # # wind_size = driver.get_window_size()\n",
    "            # # driver.set_window_size(wind_size[\"width\"], wind_size[\"height\"])\n",
    "            # # driver.set_window_size(1920, 1080)\n",
    "            # # driver.save_screenshot(\"ss.png\")\n",
    "\n",
    "\n",
    "            # elements = driver.find_elements(By.ID, \"login\")\n",
    "            # print(elements)\n",
    "                \n",
    "    except Exception as e:\n",
    "        print(e)\n",
    "\n",
    "    # driver.close()\n",
    "\n"
   ]
  },
  {
   "cell_type": "code",
   "execution_count": 53,
   "metadata": {},
   "outputs": [
    {
     "name": "stdout",
     "output_type": "stream",
     "text": [
      "[' name=\"user-login\"', ' href=\"/login\"', ' href=\"/signup?ref_cta=Sign+up&amp;ref_loc=header+logged+out&amp;ref_page=%2F&amp;source=header-home\"', ' href=\"/signup?ref_cta=Sign+up&amp;ref_loc=header+logged+out&amp;ref_page=%2F&amp;source=header-home\"', ' js-signup-form', ' action=\"/signup\"', ' value=\"form-home-signup\">\\n', ' home-campaign-signup-button', ' btn-signup-mktg\"', ' href=\"/signup?ref_cta=Sign+up+for+GitHub&amp;ref_loc=Home+campaign+footer&amp;ref_page=%2F\">\\n', ' role=\"banner\"', ' class=\"eyebrow-banner', ' href=\"https://githubuniverse.com/?utm_source=github&amp;utm_medium=banner&amp;utm_campaign=bannerlo\">\\n', ' href=\"https://githubuniverse.com/?utm_source=github&amp;utm_medium=banner&amp;utm_campaign=bannerlo\">\\n', ' class=\"eyebrow-banner-icon']\n"
     ]
    }
   ],
   "source": [
    "print(query_items)"
   ]
  },
  {
   "cell_type": "code",
   "execution_count": 54,
   "metadata": {},
   "outputs": [],
   "source": [
    "tmp = ' href=\"/login\"'"
   ]
  },
  {
   "cell_type": "code",
   "execution_count": 74,
   "metadata": {},
   "outputs": [
    {
     "name": "stdout",
     "output_type": "stream",
     "text": [
      "<selenium.webdriver.remote.webelement.WebElement (session=\"5906e5c12fbd16746f56245bc6dffcf5\", element=\"A497D48EC9568D3B32997EB1C80F09F6_element_2149\")>\n"
     ]
    }
   ],
   "source": [
    "# soup = BeautifulSoup(dom_dump,\"html.parser\")\n",
    "# print(soup)\n",
    "\n",
    "time.sleep(2)\n",
    "# wind_size = driver.get_window_size()\n",
    "# driver.set_window_size(wind_size[\"width\"], wind_size[\"height\"])\n",
    "# driver.set_window_size(1920, 1080)\n",
    "# driver.save_screenshot(\"ss.png\")\n",
    "# element = driver.find_elements(By.NAME, \"user-login\")\n",
    "# element[0].click()\n",
    "tmp = driver.find_elements(By.PARTIAL_LINK_TEXT, value=\"Pricing\")\n",
    "print(tmp[0])\n",
    "tmp[0].click()"
   ]
  },
  {
   "cell_type": "code",
   "execution_count": null,
   "metadata": {},
   "outputs": [
    {
     "name": "stdout",
     "output_type": "stream",
     "text": [
      "[]\n"
     ]
    }
   ],
   "source": [
    "print(elements)"
   ]
  }
 ],
 "metadata": {
  "kernelspec": {
   "display_name": "base",
   "language": "python",
   "name": "python3"
  },
  "language_info": {
   "codemirror_mode": {
    "name": "ipython",
    "version": 3
   },
   "file_extension": ".py",
   "mimetype": "text/x-python",
   "name": "python",
   "nbconvert_exporter": "python",
   "pygments_lexer": "ipython3",
   "version": "3.11.4"
  },
  "orig_nbformat": 4
 },
 "nbformat": 4,
 "nbformat_minor": 2
}
